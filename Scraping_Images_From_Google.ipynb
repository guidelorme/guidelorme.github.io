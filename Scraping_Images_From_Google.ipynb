{
 "cells": [
  {
   "cell_type": "code",
   "execution_count": 46,
   "metadata": {},
   "outputs": [],
   "source": [
    "import os\n",
    "import time\n",
    "import requests\n",
    "import io\n",
    "from PIL import Image\n",
    "import hashlib"
   ]
  },
  {
   "cell_type": "code",
   "execution_count": 24,
   "metadata": {
    "colab": {
     "base_uri": "https://localhost:8080/",
     "height": 467
    },
    "colab_type": "code",
    "id": "B6iohaOE2Rn1",
    "outputId": "46d3eb62-802b-423b-d204-9b449adbf1ac"
   },
   "outputs": [],
   "source": [
    "from selenium import webdriver\n",
    "DRIVER_PATH = '/Users/guillaume/Desktop/Scraping/chromedriver'\n",
    "wd = webdriver.Chrome(executable_path=DRIVER_PATH)"
   ]
  },
  {
   "cell_type": "code",
   "execution_count": 35,
   "metadata": {
    "colab": {},
    "colab_type": "code",
    "id": "LSpvAtkk0B0S"
   },
   "outputs": [],
   "source": [
    "def fetch_image_urls(query:str, max_links_to_fetch:int, wd, sleep_between_interactions:int=1):\n",
    "    def scroll_to_end(wd):\n",
    "        wd.execute_script(\"window.scrollTo(0, document.body.scrollHeight);\")\n",
    "        time.sleep(sleep_between_interactions)    \n",
    "    \n",
    "    # build the google query\n",
    "    search_url = \"https://www.google.com/search?safe=off&site=&tbm=isch&source=hp&q={q}&oq={q}&gs_l=img\"\n",
    "\n",
    "    # load the page\n",
    "    wd.get(search_url.format(q=query))\n",
    "\n",
    "    image_urls = set()\n",
    "    image_count = 0\n",
    "    results_start = 0\n",
    "    while image_count < max_links_to_fetch:\n",
    "        scroll_to_end(wd)\n",
    "\n",
    "        # get all image thumbnail results\n",
    "        thumbnail_results = wd.find_elements_by_css_selector(\"img.Q4LuWd\")\n",
    "        number_results = len(thumbnail_results)\n",
    "        \n",
    "        print(f\"Found: {number_results} search results. Extracting links from {results_start}:{number_results}\")\n",
    "        \n",
    "        for img in thumbnail_results[results_start:number_results]:\n",
    "            # try to click every thumbnail such that we can get the real image behind it\n",
    "            try:\n",
    "                img.click()\n",
    "                time.sleep(sleep_between_interactions)\n",
    "            except Exception:\n",
    "                continue\n",
    "\n",
    "            # extract image urls    \n",
    "            actual_images = wd.find_elements_by_css_selector('img.n3VNCb')\n",
    "            for actual_image in actual_images:\n",
    "                if actual_image.get_attribute('src') and 'http' in actual_image.get_attribute('src'):\n",
    "                    image_urls.add(actual_image.get_attribute('src'))\n",
    "\n",
    "            image_count = len(image_urls)\n",
    "\n",
    "            if len(image_urls) >= max_links_to_fetch:\n",
    "                print(f\"Found: {len(image_urls)} image links, done!\")\n",
    "                break\n",
    "        else:\n",
    "            print(\"Found:\", len(image_urls), \"image links, looking for more ...\")\n",
    "            time.sleep(30)\n",
    "            return\n",
    "            load_more_button = wd.find_element_by_css_selector(\".mye4qd\")\n",
    "            if load_more_button:\n",
    "                wd.execute_script(\"document.querySelector('.mye4qd').click();\")\n",
    "\n",
    "        # move the result startpoint further down\n",
    "        results_start = len(thumbnail_results)\n",
    "\n",
    "    return image_urls"
   ]
  },
  {
   "cell_type": "code",
   "execution_count": 43,
   "metadata": {
    "colab": {},
    "colab_type": "code",
    "id": "qIt4PYJg01QT"
   },
   "outputs": [],
   "source": [
    "def persist_image(folder_path:str,url:str):\n",
    "    try:\n",
    "        image_content = requests.get(url).content\n",
    "\n",
    "    except Exception as e:\n",
    "        print(f\"ERROR - Could not download {url} - {e}\")\n",
    "\n",
    "    try:\n",
    "        image_file = io.BytesIO(image_content)\n",
    "        image =Image.open(image_file).convert('RGB')\n",
    "        file_path = os.path.join(folder_path,hashlib.sha1(image_content).hexdigest()[:10] + '.jpg')\n",
    "        with open(file_path, 'wb') as f:\n",
    "            image.save(f, \"JPEG\", quality=85)\n",
    "        print(f\"SUCCESS - saved {url} - as {file_path}\")\n",
    "    except Exception as e:\n",
    "        print(f\"ERROR - Could not save {url} - {e}\")"
   ]
  },
  {
   "cell_type": "code",
   "execution_count": 47,
   "metadata": {
    "colab": {},
    "colab_type": "code",
    "id": "OOJIB7Mq1GSp"
   },
   "outputs": [],
   "source": [
    "def search_and_download(search_term:str,driver_path:str,target_path='./images',number_images=5):\n",
    "    target_folder = os.path.join(target_path,'_'.join(search_term.lower().split(' ')))\n",
    "\n",
    "    if not os.path.exists(target_folder):\n",
    "        os.makedirs(target_folder)\n",
    "\n",
    "    with webdriver.Chrome(executable_path=driver_path) as wd:\n",
    "        res = fetch_image_urls(search_term, number_images, wd=wd, sleep_between_interactions=0.5)\n",
    "        \n",
    "    for elem in res:\n",
    "        persist_image(target_folder,elem)"
   ]
  },
  {
   "cell_type": "code",
   "execution_count": 54,
   "metadata": {
    "colab": {
     "base_uri": "https://localhost:8080/",
     "height": 165
    },
    "colab_type": "code",
    "id": "VTmn3whf1ZWU",
    "outputId": "7001c020-2300-4364-e895-0177e19df4f8"
   },
   "outputs": [
    {
     "name": "stdout",
     "output_type": "stream",
     "text": [
      "Found: 100 search results. Extracting links from 0:100\n",
      "Found: 100 image links, done!\n",
      "SUCCESS - saved https://commencement.columbia.edu/sites/default/files/styles/hero/public/basic-page-campus-maps-hero-1240x720_0.jpg?itok=LSvM4OuJ - as ./images/lion_statue_columbia/9156340a11.jpg\n",
      "SUCCESS - saved https://encrypted-tbn0.gstatic.com/images?q=tbn%3AANd9GcSnMArxM2DdwBQzR3jLqDXzxPvsergh4LNYOg&usqp=CAU - as ./images/lion_statue_columbia/a2208ecb7a.jpg\n",
      "SUCCESS - saved https://encrypted-tbn0.gstatic.com/images?q=tbn%3AANd9GcQfcZ-iXw9UgZAKNYq_MZEGVvf6F_3GxkW66g&usqp=CAU - as ./images/lion_statue_columbia/757dc51258.jpg\n",
      "SUCCESS - saved https://encrypted-tbn0.gstatic.com/images?q=tbn%3AANd9GcSITa3XaXHPh_-LabtJh7V-aO7P1Jw18oprow&usqp=CAU - as ./images/lion_statue_columbia/2a8d2e0451.jpg\n",
      "SUCCESS - saved https://encrypted-tbn0.gstatic.com/images?q=tbn%3AANd9GcT309ZM0ioSIxk6GYBkfUVqmD8jURC_-1ueJg&usqp=CAU - as ./images/lion_statue_columbia/afe893afa7.jpg\n",
      "SUCCESS - saved https://encrypted-tbn0.gstatic.com/images?q=tbn%3AANd9GcR_PwS-46B-Jm5x50Igcmp-9fkgM8TdX477uQ&usqp=CAU - as ./images/lion_statue_columbia/df934965d6.jpg\n",
      "SUCCESS - saved https://encrypted-tbn0.gstatic.com/images?q=tbn%3AANd9GcQ7OwYsB_y4kAPlzffEFtB9ag8m9prha8Nd0w&usqp=CAU - as ./images/lion_statue_columbia/d9c79f9bc1.jpg\n",
      "SUCCESS - saved https://encrypted-tbn0.gstatic.com/images?q=tbn%3AANd9GcTfKAEyqXxnGZ6HFjkEZlmv_xl8BazpTiOqNw&usqp=CAU - as ./images/lion_statue_columbia/18b6d499f5.jpg\n",
      "SUCCESS - saved https://i.pinimg.com/originals/e6/94/b9/e694b9c270fb0f6c9086ef9d9bbd6211.jpg - as ./images/lion_statue_columbia/8d76832e8e.jpg\n",
      "SUCCESS - saved https://i.pinimg.com/originals/2d/06/e5/2d06e5f375ce0eacee6e65060d8b23bf.jpg - as ./images/lion_statue_columbia/8bc32e58cc.jpg\n",
      "SUCCESS - saved https://1.bp.blogspot.com/_tisixMUqRAo/S8Kn3mmy5KI/AAAAAAAAAKU/M3i0g9cD3SM/s1600/1004+The+Lion+Statue.jpg - as ./images/lion_statue_columbia/1be061e097.jpg\n",
      "SUCCESS - saved https://fastly.4sqi.net/img/general/600x600/dsHR-4hISIaBdPH0fHypVA80DR_2A6_NZ80MJGDA6hI.jpg - as ./images/lion_statue_columbia/12ffe3394f.jpg\n",
      "SUCCESS - saved https://encrypted-tbn0.gstatic.com/images?q=tbn%3AANd9GcQrj4EzWEoQaCvZXdjdIpDwpySIvRxIwKC1GA&usqp=CAU - as ./images/lion_statue_columbia/f18794571a.jpg\n",
      "SUCCESS - saved https://img.geocaching.com/waymarking/display/607cc99f-732c-4b0a-a1b5-8ca04284574a.JPG - as ./images/lion_statue_columbia/bfa174336b.jpg\n",
      "SUCCESS - saved https://previews.123rf.com/images/f11photo/f11photo1505/f11photo150500152/39676670-columbia-university-of-new-york-in-winter.jpg - as ./images/lion_statue_columbia/80753d786c.jpg\n",
      "SUCCESS - saved https://encrypted-tbn0.gstatic.com/images?q=tbn%3AANd9GcSaQdFdEH9UEt_lqXLcbsMe_N2MCiidQ_zX7w&usqp=CAU - as ./images/lion_statue_columbia/825f25ecf3.jpg\n",
      "SUCCESS - saved https://www.wikicu.com/images/thumb/5/53/BakerLion.jpg/240px-BakerLion.jpg - as ./images/lion_statue_columbia/38f138b75f.jpg\n",
      "SUCCESS - saved https://thumbs.dreamstime.com/z/lion-statue-columbia-university-new-york-prestigious-campus-79641091.jpg - as ./images/lion_statue_columbia/7bad32006d.jpg\n",
      "SUCCESS - saved https://encrypted-tbn0.gstatic.com/images?q=tbn%3AANd9GcTxr7V5RI0ysljhJdikyP6mYAYRM4uQCcrW-w&usqp=CAU - as ./images/lion_statue_columbia/9519363689.jpg\n",
      "SUCCESS - saved https://encrypted-tbn0.gstatic.com/images?q=tbn%3AANd9GcSMBEWv3H2iJeC_g3blwpUpmA_KeYWTDPCxPQ&usqp=CAU - as ./images/lion_statue_columbia/e3041d1d03.jpg\n",
      "SUCCESS - saved https://www.college.columbia.edu/cct/sites/default/files/styles/100_width/public/CCT%20Fall%2017%20images/exported%20images/CCT-Fall-17-Issue_Page_08_Image_0001.jpg?itok=jY9Tr68W - as ./images/lion_statue_columbia/8f752b28b5.jpg\n",
      "SUCCESS - saved https://encrypted-tbn0.gstatic.com/images?q=tbn%3AANd9GcR0dZ7Gp87zIRWZYwjWua15LrrCEH381ienSA&usqp=CAU - as ./images/lion_statue_columbia/bd1fa6991a.jpg\n",
      "SUCCESS - saved https://research.columbia.edu/sites/default/files/styles/cu_crop/public/2016-12/Lion.Crop_.jpg?itok=Pgx4yMO6 - as ./images/lion_statue_columbia/a77059507c.jpg\n",
      "SUCCESS - saved https://encrypted-tbn0.gstatic.com/images?q=tbn%3AANd9GcTU3GS9aWIAAiDz-eORKbBilDO6ooNyfOunSw&usqp=CAU - as ./images/lion_statue_columbia/43c246ead0.jpg\n",
      "SUCCESS - saved https://encrypted-tbn0.gstatic.com/images?q=tbn%3AANd9GcSC9FGc0Dh0LGtG-YJjtB6IFur939m7MVKixA&usqp=CAU - as ./images/lion_statue_columbia/a4a6952f90.jpg\n",
      "SUCCESS - saved https://encrypted-tbn0.gstatic.com/images?q=tbn%3AANd9GcQK3EtoXWPAdKC0Z8V1_IRugnsUjK__XzupvA&usqp=CAU - as ./images/lion_statue_columbia/7e6170a457.jpg\n",
      "SUCCESS - saved https://live.staticflickr.com/2184/2080695781_2604f94caf_b.jpg - as ./images/lion_statue_columbia/591180794b.jpg\n",
      "SUCCESS - saved https://lh3.googleusercontent.com/proxy/6Vipe5kuesW_wptVmw2Jd3JK5bo8Kl5r_Db65m_qNmQ3fk6wxJnHWWuOLLdY7CitERZkWQb0bAUKMXxZXJ6hxA - as ./images/lion_statue_columbia/8422c66d16.jpg\n",
      "SUCCESS - saved https://pbs.twimg.com/media/Dl4XwTAW4AIiQ5l.jpg - as ./images/lion_statue_columbia/c87142e9da.jpg\n",
      "SUCCESS - saved https://sps.columbia.edu/sites/default/files/styles/column_hero_870x490_large_2x/public/2017-06/t3_lion.jpg?h=d5ec4d94&itok=YJdneyk1 - as ./images/lion_statue_columbia/20b4fe5700.jpg\n",
      "SUCCESS - saved https://www.samueljohnson.com/blog/images/2019/03/190325.jpg - as ./images/lion_statue_columbia/b07e8dab89.jpg\n",
      "SUCCESS - saved https://upload.wikimedia.org/wikipedia/commons/thumb/a/ac/2014_Columbia_University_Alma_Mater_closeup.jpg/267px-2014_Columbia_University_Alma_Mater_closeup.jpg - as ./images/lion_statue_columbia/dccd04a3ff.jpg\n",
      "SUCCESS - saved https://www.washingtonpost.com/resizer/Y8bsIJjWDgK8n-MHXqP4gkeeh9o=/arc-anglerfish-washpost-prod-washpost/public/5YPZGFWK44I6TIP6ZJDORVLTYA.jpg - as ./images/lion_statue_columbia/667169048b.jpg\n",
      "SUCCESS - saved https://encrypted-tbn0.gstatic.com/images?q=tbn%3AANd9GcRtJKWUYXs4FRWOKJAc7yo5Z_V1vgrRepIe0g&usqp=CAU - as ./images/lion_statue_columbia/dce1a14814.jpg\n",
      "SUCCESS - saved https://encrypted-tbn0.gstatic.com/images?q=tbn%3AANd9GcRDnMksYBxxjExgAcCPIjTyxpQpxaQpk4X1JA&usqp=CAU - as ./images/lion_statue_columbia/b8f9f12c89.jpg\n",
      "SUCCESS - saved https://encrypted-tbn0.gstatic.com/images?q=tbn%3AANd9GcT8ONsYMHwoxWwmEaTchzQyU_Jeqh64xjvoZw&usqp=CAU - as ./images/lion_statue_columbia/996e70fd1b.jpg\n",
      "SUCCESS - saved https://encrypted-tbn0.gstatic.com/images?q=tbn%3AANd9GcQkgOXk31y3J4quMoUHXI-exaD46-j-MSjT6Q&usqp=CAU - as ./images/lion_statue_columbia/8f70bb19f4.jpg\n",
      "SUCCESS - saved https://i.pinimg.com/originals/c5/a1/02/c5a1024c6914a656bce8ec9ec3680115.jpg - as ./images/lion_statue_columbia/f02203646d.jpg\n",
      "SUCCESS - saved https://encrypted-tbn0.gstatic.com/images?q=tbn%3AANd9GcQAQ-lkfNaXmAR3Ezd5mNKZSIHmxsCfbVNEpA&usqp=CAU - as ./images/lion_statue_columbia/2c4d538119.jpg\n",
      "SUCCESS - saved https://encrypted-tbn0.gstatic.com/images?q=tbn%3AANd9GcQl1rWvgMgBD7C4cl1MBg3JEOQZS_vvqnJ5fQ&usqp=CAU - as ./images/lion_statue_columbia/4bf32833a2.jpg\n",
      "SUCCESS - saved https://encrypted-tbn0.gstatic.com/images?q=tbn%3AANd9GcRUfcfG7kFOQIEJo4MSNX5iM5CIrSDzrKGRLA&usqp=CAU - as ./images/lion_statue_columbia/0105036554.jpg\n",
      "SUCCESS - saved https://www.college.columbia.edu/alumni/sites/default/files/styles/generic_page_hero/public/lion.jpg?itok=DhYod_MC - as ./images/lion_statue_columbia/32af25dd4f.jpg\n",
      "SUCCESS - saved https://encrypted-tbn0.gstatic.com/images?q=tbn%3AANd9GcQaNpVZ4-abp6dLebcrdCyW_L9JGcXsMar85A&usqp=CAU - as ./images/lion_statue_columbia/e8db2bc799.jpg\n",
      "SUCCESS - saved https://encrypted-tbn0.gstatic.com/images?q=tbn%3AANd9GcTy5FEa4ljl7JEzvyK7nCPAOPCgdvzrJcqu6w&usqp=CAU - as ./images/lion_statue_columbia/fd2438c377.jpg\n",
      "SUCCESS - saved https://encrypted-tbn0.gstatic.com/images?q=tbn%3AANd9GcSYA8fL5DYsWz_6rB9TcMEzaj9D-oaAw8MUtg&usqp=CAU - as ./images/lion_statue_columbia/d7632ac920.jpg\n",
      "SUCCESS - saved https://encrypted-tbn0.gstatic.com/images?q=tbn%3AANd9GcSjQx4EQaCwwSTv3qSr6sJ6JUsO-zzQNa8Cdg&usqp=CAU - as ./images/lion_statue_columbia/7f6c6a468a.jpg\n",
      "SUCCESS - saved https://encrypted-tbn0.gstatic.com/images?q=tbn%3AANd9GcRH1u6PgnCv4xB18odP9T3X9VJcdL3WXNTEUw&usqp=CAU - as ./images/lion_statue_columbia/db00ed47ff.jpg\n",
      "SUCCESS - saved https://encrypted-tbn0.gstatic.com/images?q=tbn%3AANd9GcQK_iKYpcrdzZHbz8JRpNWZHCZYJ16rH31H9Q&usqp=CAU - as ./images/lion_statue_columbia/a0152652ab.jpg\n"
     ]
    },
    {
     "name": "stdout",
     "output_type": "stream",
     "text": [
      "SUCCESS - saved https://blogs.cul.columbia.edu/outdoorsculpture/files/2017/10/Lion1.jpg - as ./images/lion_statue_columbia/0216e29b15.jpg\n",
      "SUCCESS - saved https://columbia.giftplans.org/files/2314/9434/3061/daf.jpg - as ./images/lion_statue_columbia/14f81d049d.jpg\n",
      "SUCCESS - saved https://encrypted-tbn0.gstatic.com/images?q=tbn%3AANd9GcRnan6HBM45WX0P1sHoFyVg1GSfLgKCM3hBiA&usqp=CAU - as ./images/lion_statue_columbia/a60550a66a.jpg\n",
      "SUCCESS - saved https://encrypted-tbn0.gstatic.com/images?q=tbn%3AANd9GcQWilOYP7OMRoDk1Fo_SxjJL7X-aMgf8s0DwQ&usqp=CAU - as ./images/lion_statue_columbia/304ca02894.jpg\n",
      "SUCCESS - saved https://gocolumbialions.com/images/2017/3/8/KTKZAIKCGZMIXIE.20170308200038.jpg - as ./images/lion_statue_columbia/d77545a5e1.jpg\n",
      "SUCCESS - saved https://lh3.googleusercontent.com/proxy/d2ckGkiBwswlGiMiiw08vqjLlQmH_4hep-KpNgHAbLsc_lsPDh6PyjFX9cQV4k5IrR539XFfS6u5F06Wk0zxfkxIKgYvxkB1q7C_WGHayEShJubRseKB2g - as ./images/lion_statue_columbia/c3bc9610b2.jpg\n",
      "SUCCESS - saved https://encrypted-tbn0.gstatic.com/images?q=tbn%3AANd9GcRR2lJH7vjiYncy4SuUZKyNLAycidL4ecn6JA&usqp=CAU - as ./images/lion_statue_columbia/bb47d04a62.jpg\n",
      "SUCCESS - saved https://johnsondon23.files.wordpress.com/2013/10/img_0696.jpg - as ./images/lion_statue_columbia/74d0ea81e1.jpg\n",
      "SUCCESS - saved https://live.staticflickr.com/1435/1023796264_a45674933a_n.jpg - as ./images/lion_statue_columbia/708959a558.jpg\n",
      "SUCCESS - saved https://encrypted-tbn0.gstatic.com/images?q=tbn%3AANd9GcQKec9BBd8n1yn0PlFYBIn1lRsfqFwKbFrpIg&usqp=CAU - as ./images/lion_statue_columbia/edc824339c.jpg\n",
      "SUCCESS - saved https://www.wikicu.com/images/thumb/8/8b/LeoColumbiae.jpg/240px-LeoColumbiae.jpg - as ./images/lion_statue_columbia/68879abcf7.jpg\n",
      "SUCCESS - saved https://media-cdn.tripadvisor.com/media/photo-s/0a/64/9b/62/statues.jpg - as ./images/lion_statue_columbia/fc7f0a860f.jpg\n",
      "SUCCESS - saved https://encrypted-tbn0.gstatic.com/images?q=tbn%3AANd9GcS6kW1ADF99_55qXgAiJMxUOjZ-ca9t0XG-sg&usqp=CAU - as ./images/lion_statue_columbia/60820b1953.jpg\n",
      "SUCCESS - saved https://www.wikicu.com/images/thumb/d/d2/Lion.jpg/240px-Lion.jpg - as ./images/lion_statue_columbia/2f510e45fd.jpg\n",
      "SUCCESS - saved https://encrypted-tbn0.gstatic.com/images?q=tbn%3AANd9GcSxqvSgsuvhlA0ubKAjVfZAOTnhULCsfwROvg&usqp=CAU - as ./images/lion_statue_columbia/05307d1d81.jpg\n",
      "SUCCESS - saved https://previews.123rf.com/images/demerzel21/demerzel211709/demerzel21170900028/85058727-lion-statue-on-the-campus-of-columbia-university-in-the-city-of-new-york-.jpg - as ./images/lion_statue_columbia/8fa0c1d83d.jpg\n",
      "SUCCESS - saved https://upload.wikimedia.org/wikipedia/commons/thumb/9/91/Columbia_University_%286435264553%29.jpg/1200px-Columbia_University_%286435264553%29.jpg - as ./images/lion_statue_columbia/96353329bf.jpg\n",
      "SUCCESS - saved https://decasia.org/academic_culture/wp-content/uploads/2009/02/lion2.jpg - as ./images/lion_statue_columbia/88400801de.jpg\n",
      "SUCCESS - saved https://encrypted-tbn0.gstatic.com/images?q=tbn%3AANd9GcRe9NsIjDk2dUziQiXqCWtDaPcmKjzQdv2InA&usqp=CAU - as ./images/lion_statue_columbia/9048dd22aa.jpg\n",
      "SUCCESS - saved https://encrypted-tbn0.gstatic.com/images?q=tbn%3AANd9GcSl8uasv3NFXYlYG-Ozih-foVtEeSMlxW0-mQ&usqp=CAU - as ./images/lion_statue_columbia/637c87cccc.jpg\n",
      "SUCCESS - saved https://i.pinimg.com/originals/e1/63/06/e16306f7c29ce13f301cdb03cc609133.jpg - as ./images/lion_statue_columbia/c6fa10c980.jpg\n",
      "SUCCESS - saved https://i.ytimg.com/vi/NgLxRZL85fU/maxresdefault.jpg - as ./images/lion_statue_columbia/74de140077.jpg\n",
      "SUCCESS - saved https://encrypted-tbn0.gstatic.com/images?q=tbn%3AANd9GcTBw7nVX7tUZdSyt8xL1dC_1n2ROEzVwA7tZA&usqp=CAU - as ./images/lion_statue_columbia/7e28cd734e.jpg\n",
      "SUCCESS - saved https://www.college.columbia.edu/alumni/sites/default/files/styles/4x3_landscape/public/Wyatt%20lion_280x200.jpg?itok=geKHj3t5 - as ./images/lion_statue_columbia/7d863ec046.jpg\n",
      "SUCCESS - saved https://www.law.columbia.edu/sites/default/files/styles/640x267/public/2020-02/Architectural-Details_jrp0822_0020_HeroBanner.jpg?h=a2921b4c&itok=UnQF4vQE - as ./images/lion_statue_columbia/7222d6a5d0.jpg\n",
      "SUCCESS - saved https://media.gettyimages.com/photos/columbia-university-picture-id965820584 - as ./images/lion_statue_columbia/db66134fcc.jpg\n",
      "SUCCESS - saved https://compliance.columbia.edu/sites/default/files/styles/cu_crop/public/content/pics/lion.jpg?itok=ybonevOL - as ./images/lion_statue_columbia/ef4cdf5ad2.jpg\n",
      "SUCCESS - saved https://encrypted-tbn0.gstatic.com/images?q=tbn%3AANd9GcSt4sT4RfO7WUk-GboIVYApKIj2mkB5OmED5w&usqp=CAU - as ./images/lion_statue_columbia/dadf0a1e6b.jpg\n",
      "SUCCESS - saved https://pmhsredandblack.com/wp-content/uploads/2018/11/Columbia8-900x600.jpg - as ./images/lion_statue_columbia/6d74a2806b.jpg\n",
      "SUCCESS - saved https://lh6.googleusercontent.com/36pSAqRU-ISVB8QWldnJs_uzcrLGma_bOWk1mfkj-Wq_7XJsNzC_WD3udkbo3iQd90rsV6Wfjdl-3acaAND16d5FIUVOEOHrsrMlYiifk2ChvRe0v6jzix0NBbriP9UtN45NNhcp - as ./images/lion_statue_columbia/024193937b.jpg\n",
      "SUCCESS - saved https://studentconduct.columbia.edu/sites/default/files/styles/cu_crop/public/content/Lion%20Procedures.jpg?h=9410034c&itok=OwHpP5ba - as ./images/lion_statue_columbia/e49e550c0a.jpg\n",
      "SUCCESS - saved https://encrypted-tbn0.gstatic.com/images?q=tbn%3AANd9GcR_kAo7KW7WSljUOMFW_QyLwdB9LdgywJvCMQ&usqp=CAU - as ./images/lion_statue_columbia/c189c2a9d6.jpg\n",
      "SUCCESS - saved https://encrypted-tbn0.gstatic.com/images?q=tbn%3AANd9GcROyFbroWVmR26SRAz_e-Hc30JAZ4OGIrB6ZQ&usqp=CAU - as ./images/lion_statue_columbia/349c13dcc1.jpg\n",
      "SUCCESS - saved https://research.columbia.edu/sites/default/files/styles/cu_crop/public/2016-09/lion-pic_1.jpg?itok=A-eD__85 - as ./images/lion_statue_columbia/428e674fde.jpg\n",
      "SUCCESS - saved https://upload.wikimedia.org/wikipedia/commons/e/e6/Columbia_University%2C_NYC_%28June_2014%29_-_13.JPG - as ./images/lion_statue_columbia/cd4473bb20.jpg\n",
      "SUCCESS - saved https://encrypted-tbn0.gstatic.com/images?q=tbn%3AANd9GcTmQ3k7ATKfZAE1Yan5rgchGUkj4kWnaPutsQ&usqp=CAU - as ./images/lion_statue_columbia/5dc3534d9d.jpg\n",
      "SUCCESS - saved https://encrypted-tbn0.gstatic.com/images?q=tbn%3AANd9GcQJ8v-pBWSRwwnNDWPOISoTT4s0aEDHqNPhRQ&usqp=CAU - as ./images/lion_statue_columbia/8fc33ed1ff.jpg\n",
      "SUCCESS - saved https://pbs.twimg.com/media/DdINYAGV0AAMbHY.jpg - as ./images/lion_statue_columbia/b67b0982eb.jpg\n",
      "SUCCESS - saved https://encrypted-tbn0.gstatic.com/images?q=tbn%3AANd9GcSJY5uygW_D_u7gAIQbGxix18JJs92jhoM2Jg&usqp=CAU - as ./images/lion_statue_columbia/b9fee43a2e.jpg\n",
      "SUCCESS - saved https://assets.atlasobscura.com/media/W1siZiIsInVwbG9hZHMvcGxhY2VfaW1hZ2VzLzZkY2M3ODkyLTc3NDYtNGFiMC05NGUxLTFhNjVhMTEyN2ZiNjg4NzZmZTE1YmQ4YWE5ODVmZV9NaXNzb3VyaS1qb3VybmFsaXNtLWFyY2h3YXkuanBnIl0sWyJwIiwiY29udmVydCIsIiJdLFsicCIsImNvbnZlcnQiLCItcXVhbGl0eSA4MSAtYXV0by1vcmllbnQiXSxbInAiLCJ0aHVtYiIsIjc4MHg1MjAjIl1d/Missouri-journalism-archway.jpg - as ./images/lion_statue_columbia/e8d25eb948.jpg\n",
      "SUCCESS - saved https://encrypted-tbn0.gstatic.com/images?q=tbn%3AANd9GcQ2usQB5MA_NsdjU2LwiS0LM364MtybiVIYIQ&usqp=CAU - as ./images/lion_statue_columbia/22580abd21.jpg\n",
      "SUCCESS - saved https://encrypted-tbn0.gstatic.com/images?q=tbn%3AANd9GcSOhGnFLdnGQTgy70pfzzOdU1p4G4GYVVkidQ&usqp=CAU - as ./images/lion_statue_columbia/1f397876c1.jpg\n",
      "SUCCESS - saved https://www.wikicu.com/images/thumb/2/2c/ScholarsLion.jpg/240px-ScholarsLion.jpg - as ./images/lion_statue_columbia/a7269bf57d.jpg\n",
      "SUCCESS - saved https://thumbs.dreamstime.com/z/scholar%C3%A2%E2%82%AC%E2%84%A2s-lion-sculpture-columbia-university-sculpted-greg-wyatt-morningside-campus-near-havemeyer-hall-110252796.jpg - as ./images/lion_statue_columbia/a4c50e3b8d.jpg\n",
      "SUCCESS - saved https://encrypted-tbn0.gstatic.com/images?q=tbn%3AANd9GcRRZBjGr6uX2fJZXtnLnh18S3xCnWvmSYB3AA&usqp=CAU - as ./images/lion_statue_columbia/c7df2113ff.jpg\n",
      "SUCCESS - saved https://encrypted-tbn0.gstatic.com/images?q=tbn%3AANd9GcQGij9N7EgGVT2IYKCurleMWNkWQG-BOZ9jwQ&usqp=CAU - as ./images/lion_statue_columbia/485c02406a.jpg\n",
      "SUCCESS - saved https://gocolumbialions.com/images/2019/7/9/baker_lion_71.jpg?width=1000&height=563&mode=crop - as ./images/lion_statue_columbia/79b1c32778.jpg\n",
      "SUCCESS - saved https://encrypted-tbn0.gstatic.com/images?q=tbn%3AANd9GcTSOmv3_dsbufeGnGme4oRy5IaeZQZGSlml0g&usqp=CAU - as ./images/lion_statue_columbia/158278a7a5.jpg\n"
     ]
    },
    {
     "name": "stdout",
     "output_type": "stream",
     "text": [
      "SUCCESS - saved https://img.geocaching.com/waymarking/display/41333126-a34c-4edb-8034-0750eb42a5a0.jpg - as ./images/lion_statue_columbia/89ba6f0d08.jpg\n",
      "SUCCESS - saved https://encrypted-tbn0.gstatic.com/images?q=tbn%3AANd9GcQ-5rWq9XDRx1qk6x4cO3F4XRm5RpJP7AlOTg&usqp=CAU - as ./images/lion_statue_columbia/ac787468ed.jpg\n",
      "ERROR - Could not save https://stadiumjourney.com/wp-content/uploads/2015/11/IMG_0698-400x284.jpg - cannot identify image file <_io.BytesIO object at 0x7fe2d5048e30>\n",
      "SUCCESS - saved https://encrypted-tbn0.gstatic.com/images?q=tbn%3AANd9GcRzgqAJpzooWA19F8KmQZ22RhS1xGtUzImd1A&usqp=CAU - as ./images/lion_statue_columbia/8a35a24548.jpg\n"
     ]
    }
   ],
   "source": [
    "# search_and_download(\"Alma Mater Columbia\",driver_path=DRIVER_PATH,number_images=150)\n",
    "# search_and_download(\"Butler Library Columbia\",driver_path=DRIVER_PATH,number_images=100)\n",
    "search_and_download(\"Lion statue Columbia\",driver_path=DRIVER_PATH,number_images=100)"
   ]
  },
  {
   "cell_type": "code",
   "execution_count": null,
   "metadata": {
    "colab": {},
    "colab_type": "code",
    "id": "yWjrF9VE114_"
   },
   "outputs": [],
   "source": []
  }
 ],
 "metadata": {
  "colab": {
   "name": "Scraping_Images_From_Google.ipynb",
   "provenance": []
  },
  "kernelspec": {
   "display_name": "Python 3",
   "language": "python",
   "name": "python3"
  },
  "language_info": {
   "codemirror_mode": {
    "name": "ipython",
    "version": 3
   },
   "file_extension": ".py",
   "mimetype": "text/x-python",
   "name": "python",
   "nbconvert_exporter": "python",
   "pygments_lexer": "ipython3",
   "version": "3.7.4"
  }
 },
 "nbformat": 4,
 "nbformat_minor": 1
}
